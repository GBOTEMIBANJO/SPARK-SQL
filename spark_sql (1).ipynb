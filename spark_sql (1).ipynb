{
 "cells": [
  {
   "cell_type": "markdown",
   "metadata": {
    "deletable": false,
    "editable": false,
    "nbgrader": {
     "cell_type": "markdown",
     "checksum": "0d6114a510fa3eff84cc1bb2cda180e2",
     "grade": false,
     "grade_id": "advice",
     "locked": true,
     "schema_version": 3,
     "solution": false,
     "task": false
    }
   },
   "source": [
    "You should remove the `raise` exceptions below and insert your code in their place. The cells which say `DO NOT CHANGE THE CONTENT OF THIS CELL` are there to help you, if they fail, it's probably an indication of the fact that your code is wrong. You should not change their content - if you change them to make them correspond to what your program is producing, you will still not get the marks.\n",
    "\n",
    "If you encounter an error while running your notebook that doesn't appear to be connected to RDDs (such as missing `imp`), you should check that you've run the initialization cells since you've started your latest cluster.\n",
    "\n",
    "Before you turn your solution in, make sure everything runs as expected. With an attached cluster, you should **Clear State and Results** (under the **Clear** dropdown menu) and then click on the **Run all** icon. This runs all cells in the notebook from new. You should only submit this notebook if all cells run.\n",
    "\n",
    "This homework is to be completed on your own. By the act of following these instructions and handing your work in, it is deemed that you have read and understand the rules on plagiarism as written in your student handbook."
   ]
  },
  {
   "cell_type": "markdown",
   "metadata": {},
   "source": [
    "We will use the historical World cup player dataset (the second cell of this notebook downloads this for you) which is in JSON format. The first two cells set the environment up for you, including downloading the file. The initial dataframe is also created for you, so your work starts when you start exploring the data in the three ways we have seen in lectures."
   ]
  },
  {
   "cell_type": "code",
   "execution_count": null,
   "metadata": {
    "deletable": false,
    "editable": false,
    "nbgrader": {
     "cell_type": "code",
     "checksum": "1129e2ad4192ea309170d290bfa0a137",
     "grade": false,
     "grade_id": "setup-pyspark",
     "locked": true,
     "schema_version": 3,
     "solution": false,
     "task": false
    }
   },
   "outputs": [],
   "source": [
    "# DO NOT CHANGE THE CONTENT OF THIS CELL\n",
    "import sys\n",
    "if not 'dbruntime.dbutils' in sys.modules.keys():\n",
    "    import pyspark\n",
    "    sc = pyspark.SparkContext()\n",
    "    from pyspark.sql import SQLContext\n",
    "    spark = SQLContext(sc)\n",
    "    print(\"Unless you're grading this homework, you should be running this on Databricks.\")"
   ]
  },
  {
   "cell_type": "code",
   "execution_count": null,
   "metadata": {
    "deletable": false,
    "editable": false,
    "nbgrader": {
     "cell_type": "code",
     "checksum": "b5cb840dc782c6c747a843fa256b4cfd",
     "grade": false,
     "grade_id": "setup-file",
     "locked": true,
     "schema_version": 3,
     "solution": false,
     "task": false
    }
   },
   "outputs": [],
   "source": [
    "# DO NOT CHANGE THE CONTENT OF THIS CELL\n",
    "import urllib.request\n",
    "\n",
    "player_json = \"/FileStore/all-world-cup-players.json\"\n",
    "if 'dbruntime.dbutils' in sys.modules.keys():\n",
    "    try:\n",
    "        dbutils.fs.ls(file1)\n",
    "    except:\n",
    "        # Download to local /tmp\n",
    "        urllib.request.urlretrieve(\"https://github.com/jokecamp/FootballData/raw/master/World%20Cups/all-world-cup-players.json\", \"/tmp/all-world-cup-players.json\")\n",
    "        # Copy to DBFS\n",
    "        dbutils.fs.cp(\"file:/tmp/all-world-cup-players.json\", player_json)"
   ]
  },
  {
   "cell_type": "markdown",
   "metadata": {},
   "source": [
    "The cell below reads the data into a dataframe named `playersDF`. If you look at the file, you'll see that it's not formed quite as Spark expects: it doesn't have a single line per json record. We therefore use the `multiline` option."
   ]
  },
  {
   "cell_type": "code",
   "execution_count": null,
   "metadata": {
    "deletable": false,
    "editable": false,
    "nbgrader": {
     "cell_type": "code",
     "checksum": "615c5556fd6aeab04e835fafaf8b7d27",
     "grade": false,
     "grade_id": "setup-df",
     "locked": true,
     "schema_version": 3,
     "solution": false,
     "task": false
    }
   },
   "outputs": [],
   "source": [
    "# DO NOT CHANGE THE CONTENT OF THIS CELL\n",
    "playersDF = spark.read.option(\"multiline\",\"true\").json(player_json)\n",
    "assert playersDF.count() == 9443, \"Something has gone wrong with the reading process\""
   ]
  },
  {
   "cell_type": "markdown",
   "metadata": {},
   "source": [
    "We will now explore three different ways to extract the same information from the data. \n",
    "1. Via DataFrames directly\n",
    "2. Via Views\n",
    "3. Via RDDs\n",
    "\n",
    "Let's start with the DataFrames. Use DataFrame operations to create a `teamNamesFromDF` DataFrame which contains all the team names from 2014 (only). (You may want to look at the DataFrame you have read in first.) The team names should only appear once in your resulting dataframe."
   ]
  },
  {
   "cell_type": "code",
   "execution_count": null,
   "metadata": {
    "deletable": false,
    "nbgrader": {
     "cell_type": "code",
     "checksum": "e770b3adabadec6fdbfdfa8f1bb39e5d",
     "grade": false,
     "grade_id": "teamNamesFromDF",
     "locked": false,
     "schema_version": 3,
     "solution": true,
     "task": false
    }
   },
   "outputs": [],
   "source": [
    "# Your answer should have the format\n",
    "# teamNamesFromDF = ...\n",
    "# YOUR CODE HERE\n",
    "raise NotImplementedError()"
   ]
  },
  {
   "cell_type": "code",
   "execution_count": null,
   "metadata": {
    "deletable": false,
    "editable": false,
    "nbgrader": {
     "cell_type": "code",
     "checksum": "72ae43c72c61b37780a8c39691e7d703",
     "grade": true,
     "grade_id": "test_teamNamesFromDF",
     "locked": true,
     "points": 2,
     "schema_version": 3,
     "solution": false,
     "task": false
    }
   },
   "outputs": [],
   "source": [
    "# DO NOT CHANGE THE CONTENT OF THIS CELL\n",
    "from pyspark.sql import DataFrame\n",
    "assert isinstance(teamNamesFromDF, DataFrame), \"Your answer should be a dataframe\"\n",
    "assert teamNamesFromDF.count() == 32, \"Unexpected number of teams\""
   ]
  },
  {
   "cell_type": "markdown",
   "metadata": {},
   "source": [
    "Now do the same via constructing a temporary view called `players` from the data (remember that you'll need to ensure that the program doesn't fail if you run it twice - i.e. if the view already exists), using a Spark sql query to extract the 2014 team names (without repeats), and naming the resulting DataFrame `teamNamesFromTable`."
   ]
  },
  {
   "cell_type": "code",
   "execution_count": null,
   "metadata": {
    "deletable": false,
    "nbgrader": {
     "cell_type": "code",
     "checksum": "bbe2bb8d451ac00eb0b73f14811df91e",
     "grade": false,
     "grade_id": "teamNamesFromTable",
     "locked": false,
     "schema_version": 3,
     "solution": true,
     "task": false
    }
   },
   "outputs": [],
   "source": [
    "# Your answer should have the format\n",
    "# teamNamesFromTable =\n",
    "# YOUR CODE HERE\n",
    "raise NotImplementedError()"
   ]
  },
  {
   "cell_type": "code",
   "execution_count": null,
   "metadata": {
    "deletable": false,
    "editable": false,
    "nbgrader": {
     "cell_type": "code",
     "checksum": "4d953c4882b8f90c7f3507c7fc2f9eaa",
     "grade": true,
     "grade_id": "test_teamNamesFromTable",
     "locked": true,
     "points": 2,
     "schema_version": 3,
     "solution": false,
     "task": false
    }
   },
   "outputs": [],
   "source": [
    "# DO NOT CHANGE THE CONTENT OF THIS CELL\n",
    "# Check the table was created\n",
    "if 'dbruntime.dbutils' in sys.modules.keys():\n",
    "    tableList = [t.name for t in spark.catalog.listTables()]\n",
    "    assert \"players\" in tableList, \"You have either not created your table or you have named it something other than players\"\n",
    "else:\n",
    "    assert ('players' in spark.tableNames()), \"You have either not created your table or you have named it something other than players\"\n",
    "    \n",
    "assert teamNamesFromTable.count() == 32, \"Unexpected number of teams\""
   ]
  },
  {
   "cell_type": "markdown",
   "metadata": {},
   "source": [
    "Your third implementation should go via RDDs: i.e. you'll need to create a (Row) RDD from the DataFrame data, perform `.map`, `.filter` etc operations to obtain an RDD with the same result using RDDs. Your resulting RDD should be named `teamNamesFromRDD`."
   ]
  },
  {
   "cell_type": "code",
   "execution_count": null,
   "metadata": {
    "deletable": false,
    "nbgrader": {
     "cell_type": "code",
     "checksum": "262d8c73a85627346e4a3f4ef83b0219",
     "grade": false,
     "grade_id": "teamNamesFromRDD",
     "locked": false,
     "schema_version": 3,
     "solution": true,
     "task": false
    }
   },
   "outputs": [],
   "source": [
    "# Your answer should have the format\n",
    "# teamNamesFromRDD = ...\n",
    "# YOUR CODE HERE\n",
    "raise NotImplementedError()"
   ]
  },
  {
   "cell_type": "code",
   "execution_count": null,
   "metadata": {
    "deletable": false,
    "editable": false,
    "nbgrader": {
     "cell_type": "code",
     "checksum": "9da6655e818c829b41c49690dd7c3dff",
     "grade": true,
     "grade_id": "test_teamNamesFromRDD",
     "locked": true,
     "points": 2,
     "schema_version": 3,
     "solution": false,
     "task": false
    }
   },
   "outputs": [],
   "source": [
    "# DO NOT CHANGE THE CONTENT OF THIS CELL\n",
    "from pyspark.rdd import RDD\n",
    "assert isinstance(teamNamesFromRDD, RDD), \"Your result should be an RDD\"\n",
    "assert teamNamesFromRDD.count() == 32, \"Unexpected number of teams\"\n",
    "\n",
    "lineage = teamNamesFromRDD.toDebugString()\n",
    "assert 'MapPartitionsRDD' in lineage.decode(), \"Did you really manage to answer this question via RDDs without a map?\""
   ]
  }
 ],
 "metadata": {
  "kernelspec": {
   "display_name": "Python 3",
   "language": "python",
   "name": "python3"
  },
  "language_info": {
   "codemirror_mode": {
    "name": "ipython",
    "version": 3
   },
   "file_extension": ".py",
   "mimetype": "text/x-python",
   "name": "python",
   "nbconvert_exporter": "python",
   "pygments_lexer": "ipython3",
   "version": "3.7.7"
  }
 },
 "nbformat": 4,
 "nbformat_minor": 2
}
